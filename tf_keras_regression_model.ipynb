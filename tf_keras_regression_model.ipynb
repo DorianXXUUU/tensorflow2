{
 "cells": [
  {
   "cell_type": "code",
   "execution_count": 2,
   "metadata": {},
   "outputs": [],
   "source": [
    "import matplotlib as mpl\n",
    "import matplotlib.pyplot as plt\n",
    "%matplotlib inline\n",
    "import numpy as np\n",
    "import sklearn\n",
    "import pandas as pd\n",
    "import os\n",
    "import sys\n",
    "import time\n",
    "import tensorflow as tf\n",
    "\n",
    "from tensorflow import keras"
   ]
  },
  {
   "cell_type": "code",
   "execution_count": 3,
   "metadata": {},
   "outputs": [
    {
     "name": "stdout",
     "output_type": "stream",
     "text": [
      ".. _california_housing_dataset:\n",
      "\n",
      "California Housing dataset\n",
      "--------------------------\n",
      "\n",
      "**Data Set Characteristics:**\n",
      "\n",
      "    :Number of Instances: 20640\n",
      "\n",
      "    :Number of Attributes: 8 numeric, predictive attributes and the target\n",
      "\n",
      "    :Attribute Information:\n",
      "        - MedInc        median income in block\n",
      "        - HouseAge      median house age in block\n",
      "        - AveRooms      average number of rooms\n",
      "        - AveBedrms     average number of bedrooms\n",
      "        - Population    block population\n",
      "        - AveOccup      average house occupancy\n",
      "        - Latitude      house block latitude\n",
      "        - Longitude     house block longitude\n",
      "\n",
      "    :Missing Attribute Values: None\n",
      "\n",
      "This dataset was obtained from the StatLib repository.\n",
      "http://lib.stat.cmu.edu/datasets/\n",
      "\n",
      "The target variable is the median house value for California districts.\n",
      "\n",
      "This dataset was derived from the 1990 U.S. census, using one row per census\n",
      "block group. A block group is the smallest geographical unit for which the U.S.\n",
      "Census Bureau publishes sample data (a block group typically has a population\n",
      "of 600 to 3,000 people).\n",
      "\n",
      "It can be downloaded/loaded using the\n",
      ":func:`sklearn.datasets.fetch_california_housing` function.\n",
      "\n",
      ".. topic:: References\n",
      "\n",
      "    - Pace, R. Kelley and Ronald Barry, Sparse Spatial Autoregressions,\n",
      "      Statistics and Probability Letters, 33 (1997) 291-297\n",
      "\n",
      "(20640, 8)\n",
      "(20640,)\n"
     ]
    }
   ],
   "source": [
    "from sklearn.datasets import fetch_california_housing\n",
    "\n",
    "housing = fetch_california_housing()\n",
    "print(housing.DESCR)\n",
    "print(housing.data.shape)\n",
    "print(housing.target.shape)"
   ]
  },
  {
   "cell_type": "code",
   "execution_count": 6,
   "metadata": {},
   "outputs": [
    {
     "name": "stdout",
     "output_type": "stream",
     "text": [
      "array([[ 8.32520000e+00,  4.10000000e+01,  6.98412698e+00,\n",
      "         1.02380952e+00,  3.22000000e+02,  2.55555556e+00,\n",
      "         3.78800000e+01, -1.22230000e+02],\n",
      "       [ 8.30140000e+00,  2.10000000e+01,  6.23813708e+00,\n",
      "         9.71880492e-01,  2.40100000e+03,  2.10984183e+00,\n",
      "         3.78600000e+01, -1.22220000e+02],\n",
      "       [ 7.25740000e+00,  5.20000000e+01,  8.28813559e+00,\n",
      "         1.07344633e+00,  4.96000000e+02,  2.80225989e+00,\n",
      "         3.78500000e+01, -1.22240000e+02],\n",
      "       [ 5.64310000e+00,  5.20000000e+01,  5.81735160e+00,\n",
      "         1.07305936e+00,  5.58000000e+02,  2.54794521e+00,\n",
      "         3.78500000e+01, -1.22250000e+02],\n",
      "       [ 3.84620000e+00,  5.20000000e+01,  6.28185328e+00,\n",
      "         1.08108108e+00,  5.65000000e+02,  2.18146718e+00,\n",
      "         3.78500000e+01, -1.22250000e+02]])\n",
      "array([4.526, 3.585, 3.521, 3.413, 3.422])\n"
     ]
    }
   ],
   "source": [
    "import pprint\n",
    "\n",
    "pprint.pprint(housing.data[0:5])\n",
    "pprint.pprint(housing.target[0:5])"
   ]
  },
  {
   "cell_type": "code",
   "execution_count": 7,
   "metadata": {},
   "outputs": [],
   "source": [
    "from sklearn.model_selection import train_test_split\n",
    "\n",
    "x_train_all, x_test, y_train_all, y_test = train_test_split(housing.data,\n",
    "                                                            housing.target,\n",
    "                                                            random_state=7)\n",
    "x_train, x_valid, y_train, y_valid = train_test_split(x_train_all,\n",
    "                                                      y_train_all,\n",
    "                                                      random_state=11)"
   ]
  },
  {
   "cell_type": "code",
   "execution_count": 9,
   "metadata": {},
   "outputs": [
    {
     "name": "stdout",
     "output_type": "stream",
     "text": [
      "(11610, 8) (11610,)\n",
      "(3870, 8) (3870,)\n",
      "(5160, 8) (5160,)\n"
     ]
    }
   ],
   "source": [
    "print(x_train.shape, y_train.shape)\n",
    "print(x_valid.shape, y_valid.shape)\n",
    "print(x_test.shape, y_test.shape)"
   ]
  },
  {
   "cell_type": "code",
   "execution_count": 13,
   "metadata": {},
   "outputs": [],
   "source": [
    "from sklearn.preprocessing import StandardScaler\n",
    "\n",
    "scaler = StandardScaler()\n",
    "x_train_scaled = scaler.fit_transform(x_train)\n",
    "x_valid_scaled = scaler.transform(x_valid)\n",
    "x_test_scaled = scaler.transform(x_test)"
   ]
  },
  {
   "cell_type": "code",
   "execution_count": 36,
   "metadata": {},
   "outputs": [
    {
     "name": "stdout",
     "output_type": "stream",
     "text": [
      "Model: \"sequential_4\"\n",
      "_________________________________________________________________\n",
      "Layer (type)                 Output Shape              Param #   \n",
      "=================================================================\n",
      "dense_8 (Dense)              (None, 30)                270       \n",
      "_________________________________________________________________\n",
      "dense_9 (Dense)              (None, 1)                 31        \n",
      "=================================================================\n",
      "Total params: 301\n",
      "Trainable params: 301\n",
      "Non-trainable params: 0\n",
      "_________________________________________________________________\n"
     ]
    }
   ],
   "source": [
    "model = keras.Sequential([\n",
    "    keras.layers.Dense(30, activation='relu', input_shape=x_train.shape[1:]),\n",
    "    keras.layers.Dense(1)\n",
    "])\n",
    "\n",
    "model.summary()\n",
    "model.compile(loss=\"mean_squared_error\",\n",
    "             optimizer=keras.optimizers.SGD()\n",
    "             )\n",
    "callbacks = [keras.callbacks.EarlyStopping(patience=5, min_delta=1e-3)]"
   ]
  },
  {
   "cell_type": "code",
   "execution_count": 37,
   "metadata": {
    "scrolled": true
   },
   "outputs": [
    {
     "name": "stdout",
     "output_type": "stream",
     "text": [
      "Epoch 1/100\n",
      "363/363 [==============================] - 0s 710us/step - loss: 4.2607 - val_loss: 0.5260\n",
      "Epoch 2/100\n",
      "363/363 [==============================] - 0s 385us/step - loss: 0.4423 - val_loss: 0.4324\n",
      "Epoch 3/100\n",
      "363/363 [==============================] - 0s 372us/step - loss: 0.3932 - val_loss: 0.4573\n",
      "Epoch 4/100\n",
      "363/363 [==============================] - 0s 376us/step - loss: 0.3918 - val_loss: 0.3993\n",
      "Epoch 5/100\n",
      "363/363 [==============================] - 0s 429us/step - loss: 0.3816 - val_loss: 0.3970\n",
      "Epoch 6/100\n",
      "363/363 [==============================] - 0s 388us/step - loss: 0.3848 - val_loss: 0.4859\n",
      "Epoch 7/100\n",
      "363/363 [==============================] - 0s 375us/step - loss: 0.3937 - val_loss: 0.3870\n",
      "Epoch 8/100\n",
      "363/363 [==============================] - 0s 372us/step - loss: 0.3811 - val_loss: 0.3845\n",
      "Epoch 9/100\n",
      "363/363 [==============================] - 0s 371us/step - loss: 0.4065 - val_loss: 0.3841\n",
      "Epoch 10/100\n",
      "363/363 [==============================] - 0s 400us/step - loss: 0.3733 - val_loss: 0.3772\n",
      "Epoch 11/100\n",
      "363/363 [==============================] - 0s 375us/step - loss: 0.3609 - val_loss: 0.3759\n",
      "Epoch 12/100\n",
      "363/363 [==============================] - 0s 372us/step - loss: 0.3538 - val_loss: 0.3769\n",
      "Epoch 13/100\n",
      "363/363 [==============================] - 0s 368us/step - loss: 0.3703 - val_loss: 0.3809\n",
      "Epoch 14/100\n",
      "363/363 [==============================] - 0s 384us/step - loss: 0.3565 - val_loss: 0.3800\n",
      "Epoch 15/100\n",
      "363/363 [==============================] - 0s 410us/step - loss: 0.3638 - val_loss: 0.3719\n",
      "Epoch 16/100\n",
      "363/363 [==============================] - 0s 374us/step - loss: 0.3523 - val_loss: 0.3932\n",
      "Epoch 17/100\n",
      "363/363 [==============================] - 0s 372us/step - loss: 0.3634 - val_loss: 0.3713\n",
      "Epoch 18/100\n",
      "363/363 [==============================] - 0s 377us/step - loss: 0.3475 - val_loss: 0.3664\n",
      "Epoch 19/100\n",
      "363/363 [==============================] - 0s 370us/step - loss: 0.3538 - val_loss: 0.3789\n",
      "Epoch 20/100\n",
      "363/363 [==============================] - 0s 375us/step - loss: 0.3491 - val_loss: 0.3655\n",
      "Epoch 21/100\n",
      "363/363 [==============================] - 0s 449us/step - loss: 0.3760 - val_loss: 0.3627\n",
      "Epoch 22/100\n",
      "363/363 [==============================] - 0s 378us/step - loss: 0.3321 - val_loss: 0.3670\n",
      "Epoch 23/100\n",
      "363/363 [==============================] - 0s 375us/step - loss: 0.3553 - val_loss: 0.3654\n",
      "Epoch 24/100\n",
      "363/363 [==============================] - 0s 378us/step - loss: 0.3665 - val_loss: 0.3617\n",
      "Epoch 25/100\n",
      "363/363 [==============================] - 0s 369us/step - loss: 0.3509 - val_loss: 0.3590\n",
      "Epoch 26/100\n",
      "363/363 [==============================] - 0s 375us/step - loss: 0.3606 - val_loss: 0.3590\n",
      "Epoch 27/100\n",
      "363/363 [==============================] - 0s 377us/step - loss: 0.3572 - val_loss: 0.3569\n",
      "Epoch 28/100\n",
      "363/363 [==============================] - 0s 403us/step - loss: 0.3560 - val_loss: 0.3858\n",
      "Epoch 29/100\n",
      "363/363 [==============================] - 0s 375us/step - loss: 0.3803 - val_loss: 0.3585\n",
      "Epoch 30/100\n",
      "363/363 [==============================] - 0s 370us/step - loss: 0.3452 - val_loss: 0.3564\n",
      "Epoch 31/100\n",
      "363/363 [==============================] - 0s 381us/step - loss: 0.3338 - val_loss: 0.3601\n",
      "Epoch 32/100\n",
      "363/363 [==============================] - 0s 379us/step - loss: 0.3331 - val_loss: 0.3769\n"
     ]
    }
   ],
   "source": [
    "history = model.fit(x_train_scaled,\n",
    "                    y_train,\n",
    "                    validation_data=(x_valid_scaled, y_valid),\n",
    "                    epochs=100,\n",
    "                    callbacks=callbacks)"
   ]
  },
  {
   "cell_type": "code",
   "execution_count": 38,
   "metadata": {},
   "outputs": [],
   "source": [
    "def plot_learning_curves(history):\n",
    "    df = pd.DataFrame(history.history)\n",
    "    df.plot(figsize=(8,5))\n",
    "    plt.grid(True)\n",
    "    plt.ylim(0,1)\n",
    "    plt.show()\n",
    "    "
   ]
  },
  {
   "cell_type": "code",
   "execution_count": 39,
   "metadata": {},
   "outputs": [
    {
     "data": {
      "image/png": "[encoded data removed]",
      "text/plain": [
       "<Figure size 576x360 with 1 Axes>"
      ]
     },
     "metadata": {
      "needs_background": "light"
     },
     "output_type": "display_data"
    }
   ],
   "source": [
    "plot_learning_curves(history)"
   ]
  },
  {
   "cell_type": "code",
   "execution_count": 40,
   "metadata": {},
   "outputs": [
    {
     "name": "stdout",
     "output_type": "stream",
     "text": [
      "162/162 [==============================] - 0s 292us/step - loss: 0.3721\n"
     ]
    },
    {
     "data": {
      "text/plain": [
       "0.37214019894599915"
      ]
     },
     "execution_count": 40,
     "metadata": {},
     "output_type": "execute_result"
    }
   ],
   "source": [
    "model.evaluate(x_test_scaled, y_test)"
   ]
  },
  {
   "cell_type": "code",
   "execution_count": null,
   "metadata": {},
   "outputs": [],
   "source": []
  }
 ],
 "metadata": {
  "kernelspec": {
   "display_name": "Python 3",
   "language": "python",
   "name": "python3"
  },
  "language_info": {
   "codemirror_mode": {
    "name": "ipython",
    "version": 3
   },
   "file_extension": ".py",
   "mimetype": "text/x-python",
   "name": "python",
   "nbconvert_exporter": "python",
   "pygments_lexer": "ipython3",
   "version": "3.8.5"
  }
 },
 "nbformat": 4,
 "nbformat_minor": 4
}
