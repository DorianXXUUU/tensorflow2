{
 "cells": [
  {
   "cell_type": "markdown",
   "metadata": {},
   "source": [
    "# 2-2 分类问题与回归问题\n",
    "\n",
    "- 分类问题预测的是类别，模型输出是概率分布\n",
    "    - 三分类问题：【0.2，0.7，0.1】\n",
    "- 回归问题预测的是值，模型的输出是一个实数值\n",
    "\n",
    "## 目标函数\n",
    "为什么需要目标函数\n",
    "1. 参数是逐步调整的【逐步调整，逼近】\n",
    "2. 目标函数可以帮助衡量模型的好坏\n",
    "\n",
    "## 分类问题\n",
    "需要衡量目标类别与当前预测的差距\n",
    "- 三分类问题输出例子：【0.2，0.7，0.1】\n",
    "- 三分类真实类别： 2 -> one_hot -> [0,0,1]\n",
    "One-hot编码，把正整数变为向量表达\n",
    "- 生成一个长度不小于正整数的向量，只有正整数的位置处为1，其余都为0 \n",
    "### 分类问题的损失函数\n",
    "1. 平方差损失\n",
    "2. 交叉熵损失\n",
    "\n",
    "## 回归问题\n",
    "- 预测值与真实值的察隅\n",
    "- 平方差损失\n",
    "- 绝对值损失\n",
    "\n",
    "\n",
    "* 模型的训练就是调整参数，使得目标函数逐渐变小的过程\n",
    "\n",
    "    "
   ]
  },
  {
   "cell_type": "code",
   "execution_count": 1,
   "metadata": {},
   "outputs": [],
   "source": [
    "import matplotlib as mpl\n",
    "import matplotlib.pyplot as plt\n",
    "%matplotlib inline\n",
    "import numpy as np\n",
    "import sklearn\n",
    "import pandas as pd\n",
    "import os\n",
    "import sys\n",
    "import time\n",
    "import tensorflow as tf\n",
    "\n",
    "from tensorflow import keras"
   ]
  },
  {
   "cell_type": "code",
   "execution_count": 2,
   "metadata": {},
   "outputs": [
    {
     "name": "stdout",
     "output_type": "stream",
     "text": [
      "(5000, 28, 28) (5000,)\n",
      "(55000, 28, 28) (55000,)\n",
      "(10000, 28, 28) (10000,)\n",
      "(60000, 28, 28) (60000,)\n"
     ]
    }
   ],
   "source": [
    "fashion_mnist = keras.datasets.fashion_mnist\n",
    "(x_train_all, y_train_all), (x_test, y_test) = fashion_mnist.load_data()\n",
    "x_valid, x_train = x_train_all[:5000], x_train_all[5000:]\n",
    "y_valid, y_train = y_train_all[:5000], y_train_all[5000:]\n",
    " \n",
    "print(x_valid.shape, y_valid.shape)\n",
    "print(x_train.shape, y_train.shape)\n",
    "print(x_test.shape, y_test.shape)\n",
    "print(x_train_all.shape, y_train_all.shape)"
   ]
  },
  {
   "cell_type": "code",
   "execution_count": 3,
   "metadata": {},
   "outputs": [],
   "source": [
    "def show_single_image(img_arr):\n",
    "    plt.imshow(img_arr, cmap='binary')\n",
    "    plt.show()\n",
    "    \n",
    "def show_images(n_rows, n_cols, x_data, y_data, class_name):\n",
    "    assert len(x_data) == len(y_data)\n",
    "    assert n_cols * n_rows < len(x_data)\n",
    "    plt.figure(figsize = (n_cols * 1.4, n_rows * 1.6))\n",
    "    for row in range(n_rows):\n",
    "        for col in range(n_cols):\n",
    "            index = n_cols * row + col\n",
    "            plt.subplot(n_rows, n_cols, index+1)\n",
    "            plt.imshow(x_data[index], cmap=\"binary\", interpolation='nearest')\n",
    "            plt.axis('off')\n",
    "            plt.title(class_name[y_data[index]])\n",
    "    plt.show()\n",
    "    \n",
    "class_name = ['T-shirt', 'Trouser', 'Pullover', 'Dress', 'Coat', 'Sandal', 'skirt', 'Sneaker', 'Bag', 'Ankle boot']\n",
    "\n"
   ]
  },
  {
   "cell_type": "code",
   "execution_count": 4,
   "metadata": {},
   "outputs": [
    {
     "data": {
      "image/png": "[encoded data removed]",
      "text/plain": [
       "<Figure size 432x288 with 1 Axes>"
      ]
     },
     "metadata": {
      "needs_background": "light"
     },
     "output_type": "display_data"
    }
   ],
   "source": [
    "show_single_image(x_train[0])"
   ]
  },
  {
   "cell_type": "code",
   "execution_count": 5,
   "metadata": {},
   "outputs": [
    {
     "data": {
      "image/png": "[encoded data removed]",
      "text/plain": [
       "<Figure size 302.4x345.6 with 9 Axes>"
      ]
     },
     "metadata": {
      "needs_background": "light"
     },
     "output_type": "display_data"
    }
   ],
   "source": [
    "show_images(3, 3, x_train, y_train, class_name)"
   ]
  },
  {
   "cell_type": "code",
   "execution_count": 21,
   "metadata": {},
   "outputs": [],
   "source": [
    "\"\"\"\n",
    "model = keras.models.Sequential()\n",
    "model.add(keras.layers.Flatten(input_shape=[28, 28]))\n",
    "model.add(keras.layers.Dense(300, activation='relu'))\n",
    "model.add(keras.layers.Dense(100, activation='relu'))\n",
    "model.add(keras.layers.Dense(10, activation='softmax'))\n",
    "\"\"\"\n",
    "\n",
    "model = keras.models.Sequential([\n",
    "    keras.layers.Flatten(input_shape=[28, 28]),\n",
    "    keras.layers.Dense(300, activation='relu'),\n",
    "    keras.layers.Dense(100, activation='relu'),\n",
    "    keras.layers.Dense(10, activation='softmax')\n",
    "])\n",
    "\n",
    "#relu: y = max(0, x)\n",
    "#softmax: 将向量变成概率分布 x = [x1, x2, x3],\n",
    "#         y = [e^x1/sum, e^x2/sum, e^x3/sum], sum = e^x1 + e^x2 + e^x3\n",
    "\n",
    "# reason for sparse: y -> index, y -> one_hot ->[]\n",
    "# 如果y已经是一个向量了：使用categorical_crossentropy（）\n",
    "model.compile(loss=\"sparse_categorical_crossentropy\",\n",
    "              optimizer=keras.optimizers.SGD(learning_rate=0.001),\n",
    "              metrics=['accuracy'])"
   ]
  },
  {
   "cell_type": "code",
   "execution_count": 22,
   "metadata": {},
   "outputs": [
    {
     "data": {
      "text/plain": [
       "[<tensorflow.python.keras.layers.core.Flatten at 0x7f7b48fbd610>,\n",
       " <tensorflow.python.keras.layers.core.Dense at 0x7f7b48fbdd90>,\n",
       " <tensorflow.python.keras.layers.core.Dense at 0x7f7b48fbd7c0>,\n",
       " <tensorflow.python.keras.layers.core.Dense at 0x7f7b3c87a310>]"
      ]
     },
     "execution_count": 22,
     "metadata": {},
     "output_type": "execute_result"
    }
   ],
   "source": [
    "model.layers"
   ]
  },
  {
   "cell_type": "code",
   "execution_count": 23,
   "metadata": {
    "scrolled": true
   },
   "outputs": [
    {
     "name": "stdout",
     "output_type": "stream",
     "text": [
      "Model: \"sequential_2\"\n",
      "_________________________________________________________________\n",
      "Layer (type)                 Output Shape              Param #   \n",
      "=================================================================\n",
      "flatten_2 (Flatten)          (None, 784)               0         \n",
      "_________________________________________________________________\n",
      "dense_6 (Dense)              (None, 300)               235500    \n",
      "_________________________________________________________________\n",
      "dense_7 (Dense)              (None, 100)               30100     \n",
      "_________________________________________________________________\n",
      "dense_8 (Dense)              (None, 10)                1010      \n",
      "=================================================================\n",
      "Total params: 266,610\n",
      "Trainable params: 266,610\n",
      "Non-trainable params: 0\n",
      "_________________________________________________________________\n"
     ]
    }
   ],
   "source": [
    "model.summary()"
   ]
  },
  {
   "cell_type": "code",
   "execution_count": 24,
   "metadata": {
    "scrolled": true
   },
   "outputs": [
    {
     "name": "stdout",
     "output_type": "stream",
     "text": [
      "Epoch 1/10\n",
      "1719/1719 [==============================] - 3s 1ms/step - loss: 11.3657 - accuracy: 0.6329 - val_loss: 0.6741 - val_accuracy: 0.7722\n",
      "Epoch 2/10\n",
      "1719/1719 [==============================] - 3s 1ms/step - loss: 0.6235 - accuracy: 0.7682 - val_loss: 0.6068 - val_accuracy: 0.7814\n",
      "Epoch 3/10\n",
      "1719/1719 [==============================] - 2s 1ms/step - loss: 0.5350 - accuracy: 0.8002 - val_loss: 0.5975 - val_accuracy: 0.8014\n",
      "Epoch 4/10\n",
      "1719/1719 [==============================] - 2s 1ms/step - loss: 0.4972 - accuracy: 0.8147 - val_loss: 0.5477 - val_accuracy: 0.8108\n",
      "Epoch 5/10\n",
      "1719/1719 [==============================] - 2s 1ms/step - loss: 0.4509 - accuracy: 0.8345 - val_loss: 0.4887 - val_accuracy: 0.8330\n",
      "Epoch 6/10\n",
      "1719/1719 [==============================] - 2s 1ms/step - loss: 0.4376 - accuracy: 0.8387 - val_loss: 0.4934 - val_accuracy: 0.8318\n",
      "Epoch 7/10\n",
      "1719/1719 [==============================] - 2s 1ms/step - loss: 0.4202 - accuracy: 0.8456 - val_loss: 0.5008 - val_accuracy: 0.8330\n",
      "Epoch 8/10\n",
      "1719/1719 [==============================] - 2s 1ms/step - loss: 0.4037 - accuracy: 0.8529 - val_loss: 0.4613 - val_accuracy: 0.8452\n",
      "Epoch 9/10\n",
      "1719/1719 [==============================] - 2s 1ms/step - loss: 0.3819 - accuracy: 0.8597 - val_loss: 0.4795 - val_accuracy: 0.8422\n",
      "Epoch 10/10\n",
      "1719/1719 [==============================] - 2s 1ms/step - loss: 0.3804 - accuracy: 0.8610 - val_loss: 0.4739 - val_accuracy: 0.8420\n"
     ]
    }
   ],
   "source": [
    "history = model.fit(x_train, y_train, epochs=10, validation_data=(x_valid, y_valid))"
   ]
  },
  {
   "cell_type": "code",
   "execution_count": 25,
   "metadata": {
    "scrolled": true
   },
   "outputs": [
    {
     "data": {
      "text/plain": [
       "{'loss': [2.5521328449249268,\n",
       "  0.6094748377799988,\n",
       "  0.5317177176475525,\n",
       "  0.48587706685066223,\n",
       "  0.45296260714530945,\n",
       "  0.43210259079933167,\n",
       "  0.4154197871685028,\n",
       "  0.39998292922973633,\n",
       "  0.3869848847389221,\n",
       "  0.37670862674713135],\n",
       " 'accuracy': [0.6977090835571289,\n",
       "  0.774327278137207,\n",
       "  0.80356365442276,\n",
       "  0.8209818005561829,\n",
       "  0.8330363631248474,\n",
       "  0.8405454754829407,\n",
       "  0.8479818105697632,\n",
       "  0.8534727096557617,\n",
       "  0.8574908971786499,\n",
       "  0.8607272505760193],\n",
       " 'val_loss': [0.6740980744361877,\n",
       "  0.6068494915962219,\n",
       "  0.5975133180618286,\n",
       "  0.547714352607727,\n",
       "  0.4887494742870331,\n",
       "  0.49337294697761536,\n",
       "  0.5008472204208374,\n",
       "  0.4612889587879181,\n",
       "  0.4795463979244232,\n",
       "  0.47386595606803894],\n",
       " 'val_accuracy': [0.7721999883651733,\n",
       "  0.7814000248908997,\n",
       "  0.8014000058174133,\n",
       "  0.8108000159263611,\n",
       "  0.8330000042915344,\n",
       "  0.8317999839782715,\n",
       "  0.8330000042915344,\n",
       "  0.8452000021934509,\n",
       "  0.842199981212616,\n",
       "  0.8420000076293945]}"
      ]
     },
     "execution_count": 25,
     "metadata": {},
     "output_type": "execute_result"
    }
   ],
   "source": [
    "history.history"
   ]
  },
  {
   "cell_type": "code",
   "execution_count": 26,
   "metadata": {},
   "outputs": [
    {
     "data": {
      "image/png": "[encoded data removed]",
      "text/plain": [
       "<Figure size 576x360 with 1 Axes>"
      ]
     },
     "metadata": {
      "needs_background": "light"
     },
     "output_type": "display_data"
    }
   ],
   "source": [
    "def plot_learning_curves(history):\n",
    "    df = pd.DataFrame(history.history)\n",
    "    df.plot(figsize=(8, 5))\n",
    "    plt.grid(True)\n",
    "    plt.gca().set_ylim(0, 1)\n",
    "    plt.show()\n",
    "    \n",
    "plot_learning_curves(history)"
   ]
  },
  {
   "cell_type": "code",
   "execution_count": null,
   "metadata": {},
   "outputs": [],
   "source": []
  }
 ],
 "metadata": {
  "kernelspec": {
   "display_name": "Python 3",
   "language": "python",
   "name": "python3"
  },
  "language_info": {
   "codemirror_mode": {
    "name": "ipython",
    "version": 3
   },
   "file_extension": ".py",
   "mimetype": "text/x-python",
   "name": "python",
   "nbconvert_exporter": "python",
   "pygments_lexer": "ipython3",
   "version": "3.8.5"
  }
 },
 "nbformat": 4,
 "nbformat_minor": 4
}
