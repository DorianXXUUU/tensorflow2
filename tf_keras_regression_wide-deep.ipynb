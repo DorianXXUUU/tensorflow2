{
 "cells": [
  {
   "cell_type": "code",
   "execution_count": 3,
   "metadata": {},
   "outputs": [],
   "source": [
    "import matplotlib as mpl\n",
    "import matplotlib.pyplot as plt\n",
    "%matplotlib inline\n",
    "import numpy as np\n",
    "import sklearn\n",
    "import pandas as pd\n",
    "import os\n",
    "import sys\n",
    "import time\n",
    "import tensorflow as tf\n",
    "import pprint\n",
    "\n",
    "from tensorflow import keras"
   ]
  },
  {
   "cell_type": "code",
   "execution_count": 4,
   "metadata": {},
   "outputs": [],
   "source": [
    "from sklearn.datasets import fetch_california_housing\n",
    "\n",
    "housing = fetch_california_housing()\n"
   ]
  },
  {
   "cell_type": "code",
   "execution_count": 5,
   "metadata": {},
   "outputs": [],
   "source": [
    "from sklearn.model_selection import train_test_split\n",
    "\n",
    "x_train_all, x_test, y_train_all, y_test = train_test_split(housing.data,\n",
    "                                                            housing.target,\n",
    "                                                            random_state=7)\n",
    "x_train, x_valid, y_train, y_valid = train_test_split(x_train_all,\n",
    "                                                      y_train_all,\n",
    "                                                      random_state=11)"
   ]
  },
  {
   "cell_type": "code",
   "execution_count": 6,
   "metadata": {},
   "outputs": [
    {
     "name": "stdout",
     "output_type": "stream",
     "text": [
      "(11610, 8) (11610,)\n",
      "(3870, 8) (3870,)\n",
      "(5160, 8) (5160,)\n"
     ]
    }
   ],
   "source": [
    "print(x_train.shape, y_train.shape)\n",
    "print(x_valid.shape, y_valid.shape)\n",
    "print(x_test.shape, y_test.shape)"
   ]
  },
  {
   "cell_type": "code",
   "execution_count": 7,
   "metadata": {},
   "outputs": [],
   "source": [
    "from sklearn.preprocessing import StandardScaler\n",
    "\n",
    "scaler = StandardScaler()\n",
    "x_train_scaled = scaler.fit_transform(x_train)\n",
    "x_valid_scaled = scaler.transform(x_valid)\n",
    "x_test_scaled = scaler.transform(x_test)"
   ]
  },
  {
   "cell_type": "code",
   "execution_count": 19,
   "metadata": {},
   "outputs": [
    {
     "name": "stdout",
     "output_type": "stream",
     "text": [
      "Model: \"model_2\"\n",
      "__________________________________________________________________________________________________\n",
      "Layer (type)                    Output Shape         Param #     Connected to                     \n",
      "==================================================================================================\n",
      "input_4 (InputLayer)            [(None, 8)]          0                                            \n",
      "__________________________________________________________________________________________________\n",
      "dense_9 (Dense)                 (None, 30)           270         input_4[0][0]                    \n",
      "__________________________________________________________________________________________________\n",
      "dense_10 (Dense)                (None, 30)           930         dense_9[0][0]                    \n",
      "__________________________________________________________________________________________________\n",
      "concatenate_3 (Concatenate)     (None, 38)           0           input_4[0][0]                    \n",
      "                                                                 dense_10[0][0]                   \n",
      "__________________________________________________________________________________________________\n",
      "dense_11 (Dense)                (None, 1)            39          concatenate_3[0][0]              \n",
      "==================================================================================================\n",
      "Total params: 1,239\n",
      "Trainable params: 1,239\n",
      "Non-trainable params: 0\n",
      "__________________________________________________________________________________________________\n"
     ]
    }
   ],
   "source": [
    "# 函数式API\n",
    "input = keras.layers.Input(shape=x_train.shape[1:])\n",
    "hidden1 = keras.layers.Dense(30, activation='relu')(input)\n",
    "hidden2 = keras.layers.Dense(30, activation='relu')(hidden1)\n",
    "# 复合函数fx = h（g（x））\n",
    "\n",
    "concat = keras.layers.concatenate([input, hidden2])\n",
    "output = keras.layers.Dense(1)(concat)\n",
    "\n",
    "model = keras.models.Model(inputs=[input], outputs=[output])\n",
    "\n",
    "model.summary()\n",
    "model.compile(loss=\"mean_squared_error\", optimizer=keras.optimizers.SGD(learning_rate=0.001))\n",
    "callbacks = [keras.callbacks.EarlyStopping(patience=5, min_delta=1e-3)]"
   ]
  },
  {
   "cell_type": "code",
   "execution_count": 20,
   "metadata": {
    "scrolled": true
   },
   "outputs": [
    {
     "name": "stdout",
     "output_type": "stream",
     "text": [
      "Epoch 1/100\n",
      "363/363 [==============================] - 0s 632us/step - loss: 2.8111 - val_loss: 1.0238\n",
      "Epoch 2/100\n",
      "363/363 [==============================] - 0s 429us/step - loss: 0.8753 - val_loss: 0.8199\n",
      "Epoch 3/100\n",
      "363/363 [==============================] - 0s 417us/step - loss: 0.7121 - val_loss: 0.7384\n",
      "Epoch 4/100\n",
      "363/363 [==============================] - 0s 410us/step - loss: 0.6612 - val_loss: 0.6739\n",
      "Epoch 5/100\n",
      "363/363 [==============================] - 0s 418us/step - loss: 0.6020 - val_loss: 0.6211\n",
      "Epoch 6/100\n",
      "363/363 [==============================] - 0s 415us/step - loss: 0.5475 - val_loss: 0.5838\n",
      "Epoch 7/100\n",
      "363/363 [==============================] - 0s 417us/step - loss: 0.5182 - val_loss: 0.5531\n",
      "Epoch 8/100\n",
      "363/363 [==============================] - 0s 411us/step - loss: 0.4983 - val_loss: 0.5315\n",
      "Epoch 9/100\n",
      "363/363 [==============================] - 0s 410us/step - loss: 0.4876 - val_loss: 0.5133\n",
      "Epoch 10/100\n",
      "363/363 [==============================] - 0s 408us/step - loss: 0.4535 - val_loss: 0.4993\n",
      "Epoch 11/100\n",
      "363/363 [==============================] - 0s 422us/step - loss: 0.4734 - val_loss: 0.4918\n",
      "Epoch 12/100\n",
      "363/363 [==============================] - 0s 410us/step - loss: 0.4688 - val_loss: 0.4780\n",
      "Epoch 13/100\n",
      "363/363 [==============================] - 0s 411us/step - loss: 0.4453 - val_loss: 0.4713\n",
      "Epoch 14/100\n",
      "363/363 [==============================] - 0s 409us/step - loss: 0.4407 - val_loss: 0.4650\n",
      "Epoch 15/100\n",
      "363/363 [==============================] - 0s 405us/step - loss: 0.4452 - val_loss: 0.4614\n",
      "Epoch 16/100\n",
      "363/363 [==============================] - 0s 412us/step - loss: 0.4320 - val_loss: 0.4587\n",
      "Epoch 17/100\n",
      "363/363 [==============================] - 0s 411us/step - loss: 0.4191 - val_loss: 0.4524\n",
      "Epoch 18/100\n",
      "363/363 [==============================] - 0s 412us/step - loss: 0.4143 - val_loss: 0.4471\n",
      "Epoch 19/100\n",
      "363/363 [==============================] - 0s 411us/step - loss: 0.4251 - val_loss: 0.4416\n",
      "Epoch 20/100\n",
      "363/363 [==============================] - 0s 420us/step - loss: 0.4221 - val_loss: 0.4408\n",
      "Epoch 21/100\n",
      "363/363 [==============================] - 0s 408us/step - loss: 0.4303 - val_loss: 0.4369\n",
      "Epoch 22/100\n",
      "363/363 [==============================] - 0s 407us/step - loss: 0.4032 - val_loss: 0.4354\n",
      "Epoch 23/100\n",
      "363/363 [==============================] - 0s 412us/step - loss: 0.3905 - val_loss: 0.4319\n",
      "Epoch 24/100\n",
      "363/363 [==============================] - 0s 409us/step - loss: 0.4086 - val_loss: 0.4307\n",
      "Epoch 25/100\n",
      "363/363 [==============================] - 0s 413us/step - loss: 0.4119 - val_loss: 0.4280\n",
      "Epoch 26/100\n",
      "363/363 [==============================] - 0s 407us/step - loss: 0.4105 - val_loss: 0.4295\n",
      "Epoch 27/100\n",
      "363/363 [==============================] - 0s 411us/step - loss: 0.4004 - val_loss: 0.4212\n",
      "Epoch 28/100\n",
      "363/363 [==============================] - 0s 411us/step - loss: 0.4029 - val_loss: 0.4199\n",
      "Epoch 29/100\n",
      "363/363 [==============================] - 0s 411us/step - loss: 0.3818 - val_loss: 0.4194\n",
      "Epoch 30/100\n",
      "363/363 [==============================] - 0s 412us/step - loss: 0.3852 - val_loss: 0.4182\n",
      "Epoch 31/100\n",
      "363/363 [==============================] - 0s 408us/step - loss: 0.4048 - val_loss: 0.4174\n",
      "Epoch 32/100\n",
      "363/363 [==============================] - 0s 416us/step - loss: 0.3748 - val_loss: 0.4136\n",
      "Epoch 33/100\n",
      "363/363 [==============================] - 0s 414us/step - loss: 0.3886 - val_loss: 0.4111\n",
      "Epoch 34/100\n",
      "363/363 [==============================] - 0s 410us/step - loss: 0.3927 - val_loss: 0.4114\n",
      "Epoch 35/100\n",
      "363/363 [==============================] - 0s 413us/step - loss: 0.3818 - val_loss: 0.4098\n",
      "Epoch 36/100\n",
      "363/363 [==============================] - 0s 412us/step - loss: 0.3746 - val_loss: 0.4114\n",
      "Epoch 37/100\n",
      "363/363 [==============================] - 0s 411us/step - loss: 0.3827 - val_loss: 0.4080\n",
      "Epoch 38/100\n",
      "363/363 [==============================] - 0s 417us/step - loss: 0.3883 - val_loss: 0.4060\n",
      "Epoch 39/100\n",
      "363/363 [==============================] - 0s 408us/step - loss: 0.3968 - val_loss: 0.4056\n",
      "Epoch 40/100\n",
      "363/363 [==============================] - 0s 446us/step - loss: 0.3745 - val_loss: 0.4046\n",
      "Epoch 41/100\n",
      "363/363 [==============================] - 0s 412us/step - loss: 0.4048 - val_loss: 0.4052\n",
      "Epoch 42/100\n",
      "363/363 [==============================] - 0s 413us/step - loss: 0.3789 - val_loss: 0.4023\n",
      "Epoch 43/100\n",
      "363/363 [==============================] - 0s 416us/step - loss: 0.3862 - val_loss: 0.4041\n",
      "Epoch 44/100\n",
      "363/363 [==============================] - 0s 413us/step - loss: 0.3851 - val_loss: 0.4006\n",
      "Epoch 45/100\n",
      "363/363 [==============================] - 0s 408us/step - loss: 0.3772 - val_loss: 0.3993\n",
      "Epoch 46/100\n",
      "363/363 [==============================] - 0s 413us/step - loss: 0.3804 - val_loss: 0.3973\n",
      "Epoch 47/100\n",
      "363/363 [==============================] - 0s 413us/step - loss: 0.3867 - val_loss: 0.3964\n",
      "Epoch 48/100\n",
      "363/363 [==============================] - 0s 417us/step - loss: 0.3639 - val_loss: 0.3977\n",
      "Epoch 49/100\n",
      "363/363 [==============================] - 0s 426us/step - loss: 0.3767 - val_loss: 0.3957\n",
      "Epoch 50/100\n",
      "363/363 [==============================] - 0s 410us/step - loss: 0.3719 - val_loss: 0.3954\n",
      "Epoch 51/100\n",
      "363/363 [==============================] - 0s 410us/step - loss: 0.3705 - val_loss: 0.3910\n",
      "Epoch 52/100\n",
      "363/363 [==============================] - 0s 413us/step - loss: 0.3747 - val_loss: 0.3948\n",
      "Epoch 53/100\n",
      "363/363 [==============================] - 0s 425us/step - loss: 0.3529 - val_loss: 0.3920\n",
      "Epoch 54/100\n",
      "363/363 [==============================] - 0s 414us/step - loss: 0.3659 - val_loss: 0.3902\n",
      "Epoch 55/100\n",
      "363/363 [==============================] - 0s 414us/step - loss: 0.3829 - val_loss: 0.3874\n",
      "Epoch 56/100\n",
      "363/363 [==============================] - 0s 418us/step - loss: 0.3722 - val_loss: 0.3913\n",
      "Epoch 57/100\n",
      "363/363 [==============================] - 0s 411us/step - loss: 0.3665 - val_loss: 0.3891\n",
      "Epoch 58/100\n",
      "363/363 [==============================] - 0s 412us/step - loss: 0.3702 - val_loss: 0.3900\n",
      "Epoch 59/100\n",
      "363/363 [==============================] - 0s 414us/step - loss: 0.3728 - val_loss: 0.3892\n",
      "Epoch 60/100\n",
      "363/363 [==============================] - 0s 416us/step - loss: 0.3600 - val_loss: 0.3854\n",
      "Epoch 61/100\n",
      "363/363 [==============================] - 0s 413us/step - loss: 0.3487 - val_loss: 0.3862\n",
      "Epoch 62/100\n",
      "363/363 [==============================] - 0s 411us/step - loss: 0.3407 - val_loss: 0.3826\n",
      "Epoch 63/100\n",
      "363/363 [==============================] - 0s 412us/step - loss: 0.3565 - val_loss: 0.3842\n",
      "Epoch 64/100\n",
      "363/363 [==============================] - 0s 414us/step - loss: 0.3647 - val_loss: 0.3843\n",
      "Epoch 65/100\n",
      "363/363 [==============================] - 0s 416us/step - loss: 0.3544 - val_loss: 0.3819\n",
      "Epoch 66/100\n",
      "363/363 [==============================] - 0s 414us/step - loss: 0.3740 - val_loss: 0.3792\n",
      "Epoch 67/100\n",
      "363/363 [==============================] - 0s 413us/step - loss: 0.3826 - val_loss: 0.3826\n",
      "Epoch 68/100\n",
      "363/363 [==============================] - 0s 413us/step - loss: 0.3543 - val_loss: 0.3790\n",
      "Epoch 69/100\n",
      "363/363 [==============================] - 0s 414us/step - loss: 0.3577 - val_loss: 0.3822\n",
      "Epoch 70/100\n",
      "363/363 [==============================] - 0s 416us/step - loss: 0.3696 - val_loss: 0.3795\n",
      "Epoch 71/100\n",
      "363/363 [==============================] - 0s 415us/step - loss: 0.3429 - val_loss: 0.3799\n"
     ]
    }
   ],
   "source": [
    "history = model.fit(x_train_scaled,\n",
    "                    y_train,\n",
    "                    validation_data=(x_valid_scaled, y_valid),\n",
    "                    epochs=100,\n",
    "                    callbacks=callbacks,\n",
    "                   )"
   ]
  },
  {
   "cell_type": "code",
   "execution_count": 21,
   "metadata": {},
   "outputs": [],
   "source": [
    "def plot_learning_curves(history):\n",
    "    df = pd.DataFrame(history.history)\n",
    "    df.plot(figsize=(8,5))\n",
    "    plt.grid(True)\n",
    "    plt.ylim(0,1)\n",
    "    plt.show()\n",
    "    "
   ]
  },
  {
   "cell_type": "code",
   "execution_count": 22,
   "metadata": {},
   "outputs": [
    {
     "data": {
      "image/png": "[encoded data removed]",
      "text/plain": [
       "<Figure size 576x360 with 1 Axes>"
      ]
     },
     "metadata": {
      "needs_background": "light"
     },
     "output_type": "display_data"
    }
   ],
   "source": [
    "plot_learning_curves(history)"
   ]
  },
  {
   "cell_type": "code",
   "execution_count": 23,
   "metadata": {},
   "outputs": [
    {
     "name": "stdout",
     "output_type": "stream",
     "text": [
      "162/162 [==============================] - 0s 293us/step - loss: 0.3795\n"
     ]
    },
    {
     "data": {
      "text/plain": [
       "0.37946903705596924"
      ]
     },
     "execution_count": 23,
     "metadata": {},
     "output_type": "execute_result"
    }
   ],
   "source": [
    "model.evaluate(x_test_scaled, y_test)"
   ]
  },
  {
   "cell_type": "code",
   "execution_count": null,
   "metadata": {},
   "outputs": [],
   "source": []
  }
 ],
 "metadata": {
  "kernelspec": {
   "display_name": "Python 3",
   "language": "python",
   "name": "python3"
  },
  "language_info": {
   "codemirror_mode": {
    "name": "ipython",
    "version": 3
   },
   "file_extension": ".py",
   "mimetype": "text/x-python",
   "name": "python",
   "nbconvert_exporter": "python",
   "pygments_lexer": "ipython3",
   "version": "3.8.5"
  }
 },
 "nbformat": 4,
 "nbformat_minor": 4
}
